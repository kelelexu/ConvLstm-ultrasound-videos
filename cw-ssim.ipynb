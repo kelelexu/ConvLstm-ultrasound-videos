{
 "cells": [
  {
   "cell_type": "code",
   "execution_count": null,
   "metadata": {
    "collapsed": true
   },
   "outputs": [],
   "source": [
    "import os\n",
    "import datetime\n",
    "import cv2\n",
    "import numpy as np\n",
    "import ssim.ssimlib as pyssim\n",
    "from skimage.measure import structural_similarity as ssim\n",
    "from sklearn.cluster import SpectralClustering, AffinityPropagation\n",
    "from sklearn import metrics\n",
    "# Constant definitions\n",
    "SIM_IMAGE_SIZE = (96, 96)\n",
    "SIFT_RATIO = 0.7\n",
    "MSE_NUMERATOR = 1000.0\n",
    "IMAGES_PER_CLUSTER = 5\n",
    "\n",
    "\"\"\" Returns the normalized similarity value (from 0.0 to 1.0) for the provided pair of images.\n",
    "    The following algorithms are supported:\n",
    "    * SIFT: Scale-invariant Feature Transform\n",
    "    * SSIM: Structural Similarity Index\n",
    "    * CW-SSIM: Complex Wavelet Structural Similarity Index\n",
    "    * MSE: Mean Squared Error\n",
    "\"\"\"\n",
    "def get_image_similarity(img1, img2, algorithm='SIFT'):\n",
    "    # Converting to grayscale and resizing\n",
    "    i1 = cv2.resize(cv2.imread(img1, cv2.IMREAD_GRAYSCALE), SIM_IMAGE_SIZE)\n",
    "    i2 = cv2.resize(cv2.imread(img2, cv2.IMREAD_GRAYSCALE), SIM_IMAGE_SIZE)\n",
    "\n",
    "    similarity = 0.0\n",
    "\n",
    "    if algorithm == 'SIFT':\n",
    "        # Using OpenCV for feature detection and matching\n",
    "        sift = cv2.xfeatures2d.SIFT_create()\n",
    "        k1, d1 = sift.detectAndCompute(i1, None)\n",
    "        k2, d2 = sift.detectAndCompute(i2, None)\n",
    "\n",
    "        bf = cv2.BFMatcher()\n",
    "        matches = bf.knnMatch(d1, d2, k=2)\n",
    "\n",
    "        for m, n in matches:\n",
    "            if m.distance < SIFT_RATIO * n.distance:\n",
    "                similarity += 1.0\n",
    "\n",
    "        # Custom normalization for better variance in the similarity matrix\n",
    "        if similarity == len(matches):\n",
    "            similarity = 1.0\n",
    "        elif similarity > 1.0:\n",
    "            similarity = 1.0 - 1.0/similarity\n",
    "        elif similarity == 1.0:\n",
    "            similarity = 0.1\n",
    "        else:\n",
    "            similarity = 0.0\n",
    "    elif algorithm == 'CW-SSIM':\n",
    "        # FOR EXPERIMENTS ONLY!\n",
    "        # Very slow algorithm - up to 50x times slower than SIFT or SSIM.\n",
    "        # Optimization using CUDA or Cython code should be explored in the future.\n",
    "        similarity = pyssim.SSIM(img1).cw_ssim_value(img2)\n",
    "    elif algorithm == 'SSIM':\n",
    "        # Default SSIM implementation of Scikit-Image\n",
    "        similarity = ssim(i1, i2)\n",
    "    else:\n",
    "        # Using MSE algorithm with custom normalization\n",
    "        err = np.sum((i1.astype(\"float\") - i2.astype(\"float\")) ** 2)\n",
    "        err /= float(i1.shape[0] * i2.shape[1])\n",
    "\n",
    "        if err > 0.0:\n",
    "            similarity = MSE_NUMERATOR / err\n",
    "        else:\n",
    "            similarity = 1.0\n",
    "\n",
    "    return similarity"
   ]
  },
  {
   "cell_type": "code",
   "execution_count": null,
   "metadata": {
    "collapsed": true
   },
   "outputs": [],
   "source": [
    "path1='picture_predict/'  #predict picture path\n",
    "path2='newpicture/'       #true picture path"
   ]
  },
  {
   "cell_type": "code",
   "execution_count": null,
   "metadata": {
    "collapsed": true
   },
   "outputs": [],
   "source": [
    "import os"
   ]
  },
  {
   "cell_type": "code",
   "execution_count": null,
   "metadata": {
    "collapsed": true
   },
   "outputs": [],
   "source": [
    "alldict=os.listdir(path1)"
   ]
  },
  {
   "cell_type": "code",
   "execution_count": null,
   "metadata": {},
   "outputs": [],
   "source": [
    "summ=0\n",
    "for i in range(len(alldict)):\n",
    "    img1=path1+str(i)+'.jpg'\n",
    "    img2=path2+str(i)+'.jpg'\n",
    "    similar=get_image_similarity(img1, img2, algorithm='CW-SSIM')\n",
    "    summ+=similar"
   ]
  },
  {
   "cell_type": "code",
   "execution_count": null,
   "metadata": {},
   "outputs": [],
   "source": [
    "summ/len(alldict)"
   ]
  },
  {
   "cell_type": "code",
   "execution_count": null,
   "metadata": {
    "collapsed": true
   },
   "outputs": [],
   "source": []
  }
 ],
 "metadata": {
  "kernelspec": {
   "display_name": "Python [conda env:py3]",
   "language": "python",
   "name": "conda-env-py3-py"
  },
  "language_info": {
   "codemirror_mode": {
    "name": "ipython",
    "version": 3
   },
   "file_extension": ".py",
   "mimetype": "text/x-python",
   "name": "python",
   "nbconvert_exporter": "python",
   "pygments_lexer": "ipython3",
   "version": "3.6.2"
  }
 },
 "nbformat": 4,
 "nbformat_minor": 2
}
